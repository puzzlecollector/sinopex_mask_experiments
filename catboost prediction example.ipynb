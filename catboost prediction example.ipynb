{
 "cells": [
  {
   "cell_type": "code",
   "execution_count": 29,
   "metadata": {},
   "outputs": [],
   "source": [
    "import numpy as np \n",
    "import pandas as pd \n",
    "from catboost import CatBoostRegressor\n",
    "from sklearn.multioutput import MultiOutputRegressor\n",
    "from sklearn.model_selection import KFold\n",
    "from sklearn.metrics import mean_absolute_error"
   ]
  },
  {
   "cell_type": "markdown",
   "metadata": {},
   "source": [
    "### Cleaning Data "
   ]
  },
  {
   "cell_type": "code",
   "execution_count": 2,
   "metadata": {},
   "outputs": [],
   "source": [
    "df = pd.read_excel('2015_7차_직접측정 데이터.xlsx')"
   ]
  },
  {
   "cell_type": "code",
   "execution_count": 3,
   "metadata": {},
   "outputs": [],
   "source": [
    "gender = np.asarray(df['ⓞ_02_성별']) \n",
    "age = np.asarray(df['ⓞ_06_나이_반올림']) \n",
    "height = np.asarray(df['①_003_키']) \n",
    "weight = np.asarray(df['①_031_몸무게']) \n",
    "shoe_size = np.asarray(df['①_119_발직선길이']) "
   ]
  },
  {
   "cell_type": "code",
   "execution_count": 4,
   "metadata": {},
   "outputs": [],
   "source": [
    "face_width = np.asarray(df['①_115_머리너비'])  \n",
    "lower_face_height = np.asarray(df['①_094_얼굴수직길이'])"
   ]
  },
  {
   "cell_type": "code",
   "execution_count": 5,
   "metadata": {},
   "outputs": [],
   "source": [
    "train = pd.DataFrame({'gender':gender,\n",
    "                      'age':age,\n",
    "                      'height': height, \n",
    "                      'weight': weight, \n",
    "                      'shoe_size': shoe_size, \n",
    "                      'face_width': face_width, \n",
    "                      'lower_face_height': lower_face_height\n",
    "                     })"
   ]
  },
  {
   "cell_type": "code",
   "execution_count": 6,
   "metadata": {},
   "outputs": [],
   "source": [
    "train = train.dropna() "
   ]
  },
  {
   "cell_type": "code",
   "execution_count": 7,
   "metadata": {},
   "outputs": [
    {
     "data": {
      "text/html": [
       "<div>\n",
       "<style scoped>\n",
       "    .dataframe tbody tr th:only-of-type {\n",
       "        vertical-align: middle;\n",
       "    }\n",
       "\n",
       "    .dataframe tbody tr th {\n",
       "        vertical-align: top;\n",
       "    }\n",
       "\n",
       "    .dataframe thead th {\n",
       "        text-align: right;\n",
       "    }\n",
       "</style>\n",
       "<table border=\"1\" class=\"dataframe\">\n",
       "  <thead>\n",
       "    <tr style=\"text-align: right;\">\n",
       "      <th></th>\n",
       "      <th>gender</th>\n",
       "      <th>age</th>\n",
       "      <th>height</th>\n",
       "      <th>weight</th>\n",
       "      <th>shoe_size</th>\n",
       "      <th>face_width</th>\n",
       "      <th>lower_face_height</th>\n",
       "    </tr>\n",
       "  </thead>\n",
       "  <tbody>\n",
       "    <tr>\n",
       "      <th>0</th>\n",
       "      <td>남</td>\n",
       "      <td>25</td>\n",
       "      <td>1736.0</td>\n",
       "      <td>72.1</td>\n",
       "      <td>228.0</td>\n",
       "      <td>159.0</td>\n",
       "      <td>118.0</td>\n",
       "    </tr>\n",
       "    <tr>\n",
       "      <th>1</th>\n",
       "      <td>남</td>\n",
       "      <td>28</td>\n",
       "      <td>1833.0</td>\n",
       "      <td>106.2</td>\n",
       "      <td>269.0</td>\n",
       "      <td>161.0</td>\n",
       "      <td>128.0</td>\n",
       "    </tr>\n",
       "    <tr>\n",
       "      <th>2</th>\n",
       "      <td>남</td>\n",
       "      <td>19</td>\n",
       "      <td>1744.0</td>\n",
       "      <td>69.1</td>\n",
       "      <td>244.0</td>\n",
       "      <td>162.0</td>\n",
       "      <td>127.0</td>\n",
       "    </tr>\n",
       "    <tr>\n",
       "      <th>3</th>\n",
       "      <td>남</td>\n",
       "      <td>20</td>\n",
       "      <td>1751.0</td>\n",
       "      <td>68.4</td>\n",
       "      <td>231.0</td>\n",
       "      <td>154.0</td>\n",
       "      <td>124.0</td>\n",
       "    </tr>\n",
       "    <tr>\n",
       "      <th>4</th>\n",
       "      <td>남</td>\n",
       "      <td>22</td>\n",
       "      <td>1851.0</td>\n",
       "      <td>81.9</td>\n",
       "      <td>265.0</td>\n",
       "      <td>158.0</td>\n",
       "      <td>117.0</td>\n",
       "    </tr>\n",
       "    <tr>\n",
       "      <th>...</th>\n",
       "      <td>...</td>\n",
       "      <td>...</td>\n",
       "      <td>...</td>\n",
       "      <td>...</td>\n",
       "      <td>...</td>\n",
       "      <td>...</td>\n",
       "      <td>...</td>\n",
       "    </tr>\n",
       "    <tr>\n",
       "      <th>6415</th>\n",
       "      <td>여</td>\n",
       "      <td>20</td>\n",
       "      <td>1706.0</td>\n",
       "      <td>59.6</td>\n",
       "      <td>242.0</td>\n",
       "      <td>161.0</td>\n",
       "      <td>101.0</td>\n",
       "    </tr>\n",
       "    <tr>\n",
       "      <th>6416</th>\n",
       "      <td>여</td>\n",
       "      <td>20</td>\n",
       "      <td>1624.0</td>\n",
       "      <td>54.9</td>\n",
       "      <td>241.0</td>\n",
       "      <td>151.0</td>\n",
       "      <td>105.0</td>\n",
       "    </tr>\n",
       "    <tr>\n",
       "      <th>6417</th>\n",
       "      <td>여</td>\n",
       "      <td>44</td>\n",
       "      <td>1508.0</td>\n",
       "      <td>50.1</td>\n",
       "      <td>228.0</td>\n",
       "      <td>142.0</td>\n",
       "      <td>111.0</td>\n",
       "    </tr>\n",
       "    <tr>\n",
       "      <th>6418</th>\n",
       "      <td>여</td>\n",
       "      <td>20</td>\n",
       "      <td>1574.0</td>\n",
       "      <td>44.6</td>\n",
       "      <td>222.0</td>\n",
       "      <td>157.0</td>\n",
       "      <td>103.0</td>\n",
       "    </tr>\n",
       "    <tr>\n",
       "      <th>6419</th>\n",
       "      <td>여</td>\n",
       "      <td>37</td>\n",
       "      <td>1550.0</td>\n",
       "      <td>62.6</td>\n",
       "      <td>228.0</td>\n",
       "      <td>154.0</td>\n",
       "      <td>112.0</td>\n",
       "    </tr>\n",
       "  </tbody>\n",
       "</table>\n",
       "<p>6411 rows × 7 columns</p>\n",
       "</div>"
      ],
      "text/plain": [
       "     gender  age  height  weight  shoe_size  face_width  lower_face_height\n",
       "0         남   25  1736.0    72.1      228.0       159.0              118.0\n",
       "1         남   28  1833.0   106.2      269.0       161.0              128.0\n",
       "2         남   19  1744.0    69.1      244.0       162.0              127.0\n",
       "3         남   20  1751.0    68.4      231.0       154.0              124.0\n",
       "4         남   22  1851.0    81.9      265.0       158.0              117.0\n",
       "...     ...  ...     ...     ...        ...         ...                ...\n",
       "6415      여   20  1706.0    59.6      242.0       161.0              101.0\n",
       "6416      여   20  1624.0    54.9      241.0       151.0              105.0\n",
       "6417      여   44  1508.0    50.1      228.0       142.0              111.0\n",
       "6418      여   20  1574.0    44.6      222.0       157.0              103.0\n",
       "6419      여   37  1550.0    62.6      228.0       154.0              112.0\n",
       "\n",
       "[6411 rows x 7 columns]"
      ]
     },
     "execution_count": 7,
     "metadata": {},
     "output_type": "execute_result"
    }
   ],
   "source": [
    "train"
   ]
  },
  {
   "cell_type": "code",
   "execution_count": 8,
   "metadata": {},
   "outputs": [
    {
     "data": {
      "text/plain": [
       "(1354.0, 1915.0)"
      ]
     },
     "execution_count": 8,
     "metadata": {},
     "output_type": "execute_result"
    }
   ],
   "source": [
    "np.min(train['height']), np.max(train['height'])"
   ]
  },
  {
   "cell_type": "code",
   "execution_count": 9,
   "metadata": {},
   "outputs": [
    {
     "data": {
      "text/plain": [
       "(15, 69)"
      ]
     },
     "execution_count": 9,
     "metadata": {},
     "output_type": "execute_result"
    }
   ],
   "source": [
    "np.min(train['age']), np.max(train['age'])"
   ]
  },
  {
   "cell_type": "markdown",
   "metadata": {},
   "source": [
    "### Fit model for lower face height"
   ]
  },
  {
   "cell_type": "code",
   "execution_count": 10,
   "metadata": {},
   "outputs": [],
   "source": [
    "x_train = train.drop(columns=['face_width', 'lower_face_height'])\n",
    "y_train = train['lower_face_height']"
   ]
  },
  {
   "cell_type": "code",
   "execution_count": 11,
   "metadata": {},
   "outputs": [],
   "source": [
    "cat_cols = ['gender']"
   ]
  },
  {
   "cell_type": "code",
   "execution_count": 12,
   "metadata": {},
   "outputs": [
    {
     "name": "stdout",
     "output_type": "stream",
     "text": [
      "0:\tlearn: 7.3267974\ttest: 7.0949701\tbest: 7.0949701 (0)\ttotal: 61.9ms\tremaining: 10m 18s\n",
      "1000:\tlearn: 5.6758208\ttest: 5.7020601\tbest: 5.7020601 (1000)\ttotal: 3.43s\tremaining: 30.8s\n",
      "2000:\tlearn: 5.4120700\ttest: 5.6969026\tbest: 5.6963559 (1984)\ttotal: 6.36s\tremaining: 25.4s\n",
      "3000:\tlearn: 5.1887909\ttest: 5.7102251\tbest: 5.6963559 (1984)\ttotal: 9.06s\tremaining: 21.1s\n",
      "4000:\tlearn: 5.0029200\ttest: 5.7263026\tbest: 5.6963559 (1984)\ttotal: 11.8s\tremaining: 17.7s\n",
      "5000:\tlearn: 4.8297122\ttest: 5.7485031\tbest: 5.6963559 (1984)\ttotal: 14.7s\tremaining: 14.7s\n",
      "6000:\tlearn: 4.6758209\ttest: 5.7718964\tbest: 5.6963559 (1984)\ttotal: 16.4s\tremaining: 10.9s\n",
      "7000:\tlearn: 4.5371215\ttest: 5.7942780\tbest: 5.6963559 (1984)\ttotal: 18s\tremaining: 7.7s\n",
      "8000:\tlearn: 4.4110162\ttest: 5.8114691\tbest: 5.6963559 (1984)\ttotal: 19.6s\tremaining: 4.9s\n",
      "9000:\tlearn: 4.2949202\ttest: 5.8339812\tbest: 5.6963559 (1984)\ttotal: 21.2s\tremaining: 2.35s\n",
      "9999:\tlearn: 4.1875421\ttest: 5.8561174\tbest: 5.6963559 (1984)\ttotal: 22.8s\tremaining: 0us\n",
      "\n",
      "bestTest = 5.696355914\n",
      "bestIteration = 1984\n",
      "\n",
      "Shrink model to first 1985 iterations.\n",
      "0:\tlearn: 7.2330149\ttest: 7.4589901\tbest: 7.4589901 (0)\ttotal: 1.8ms\tremaining: 18s\n",
      "1000:\tlearn: 5.6019705\ttest: 6.0580662\tbest: 6.0539500 (548)\ttotal: 1.6s\tremaining: 14.4s\n",
      "2000:\tlearn: 5.3719402\ttest: 6.0892002\tbest: 6.0539500 (548)\ttotal: 3.4s\tremaining: 13.6s\n",
      "3000:\tlearn: 5.1515316\ttest: 6.1268646\tbest: 6.0539500 (548)\ttotal: 5.13s\tremaining: 12s\n",
      "4000:\tlearn: 4.9571376\ttest: 6.1581674\tbest: 6.0539500 (548)\ttotal: 6.78s\tremaining: 10.2s\n",
      "5000:\tlearn: 4.7847894\ttest: 6.1894285\tbest: 6.0539500 (548)\ttotal: 8.45s\tremaining: 8.45s\n",
      "6000:\tlearn: 4.6306515\ttest: 6.2186907\tbest: 6.0539500 (548)\ttotal: 10s\tremaining: 6.7s\n",
      "7000:\tlearn: 4.4905815\ttest: 6.2403078\tbest: 6.0539500 (548)\ttotal: 11.6s\tremaining: 4.98s\n",
      "8000:\tlearn: 4.3678979\ttest: 6.2629653\tbest: 6.0539500 (548)\ttotal: 13.2s\tremaining: 3.31s\n",
      "9000:\tlearn: 4.2553034\ttest: 6.2865096\tbest: 6.0539500 (548)\ttotal: 14.9s\tremaining: 1.65s\n",
      "9999:\tlearn: 4.1515641\ttest: 6.3058151\tbest: 6.0539500 (548)\ttotal: 16.6s\tremaining: 0us\n",
      "\n",
      "bestTest = 6.053949987\n",
      "bestIteration = 548\n",
      "\n",
      "Shrink model to first 549 iterations.\n",
      "0:\tlearn: 7.2562003\ttest: 7.3678081\tbest: 7.3678081 (0)\ttotal: 1.69ms\tremaining: 16.9s\n",
      "1000:\tlearn: 5.6030175\ttest: 6.0440370\tbest: 6.0437783 (955)\ttotal: 1.65s\tremaining: 14.8s\n",
      "2000:\tlearn: 5.3792047\ttest: 6.0435690\tbest: 6.0415826 (1283)\ttotal: 3.23s\tremaining: 12.9s\n",
      "3000:\tlearn: 5.1683831\ttest: 6.0603772\tbest: 6.0415826 (1283)\ttotal: 4.78s\tremaining: 11.1s\n",
      "4000:\tlearn: 4.9858754\ttest: 6.0755580\tbest: 6.0415826 (1283)\ttotal: 6.33s\tremaining: 9.49s\n",
      "5000:\tlearn: 4.8255811\ttest: 6.0940751\tbest: 6.0415826 (1283)\ttotal: 7.89s\tremaining: 7.89s\n",
      "6000:\tlearn: 4.6800106\ttest: 6.1104337\tbest: 6.0415826 (1283)\ttotal: 9.48s\tremaining: 6.32s\n",
      "7000:\tlearn: 4.5501215\ttest: 6.1252890\tbest: 6.0415826 (1283)\ttotal: 11s\tremaining: 4.72s\n",
      "8000:\tlearn: 4.4294552\ttest: 6.1413249\tbest: 6.0415826 (1283)\ttotal: 12.6s\tremaining: 3.14s\n",
      "9000:\tlearn: 4.3136346\ttest: 6.1570555\tbest: 6.0415826 (1283)\ttotal: 14.1s\tremaining: 1.57s\n",
      "9999:\tlearn: 4.2089049\ttest: 6.1698438\tbest: 6.0415826 (1283)\ttotal: 15.7s\tremaining: 0us\n",
      "\n",
      "bestTest = 6.041582618\n",
      "bestIteration = 1283\n",
      "\n",
      "Shrink model to first 1284 iterations.\n",
      "0:\tlearn: 7.2867020\ttest: 7.2454976\tbest: 7.2454976 (0)\ttotal: 1.7ms\tremaining: 17s\n",
      "1000:\tlearn: 5.6732803\ttest: 5.7497517\tbest: 5.7497517 (1000)\ttotal: 1.49s\tremaining: 13.4s\n",
      "2000:\tlearn: 5.4232218\ttest: 5.7462824\tbest: 5.7448113 (1470)\ttotal: 3.01s\tremaining: 12s\n",
      "3000:\tlearn: 5.1964887\ttest: 5.7508813\tbest: 5.7448113 (1470)\ttotal: 4.55s\tremaining: 10.6s\n",
      "4000:\tlearn: 5.0157518\ttest: 5.7640735\tbest: 5.7448113 (1470)\ttotal: 6.1s\tremaining: 9.15s\n",
      "5000:\tlearn: 4.8547942\ttest: 5.7808415\tbest: 5.7448113 (1470)\ttotal: 7.66s\tremaining: 7.66s\n",
      "6000:\tlearn: 4.7041134\ttest: 5.7976817\tbest: 5.7448113 (1470)\ttotal: 9.28s\tremaining: 6.18s\n",
      "7000:\tlearn: 4.5678669\ttest: 5.8100969\tbest: 5.7448113 (1470)\ttotal: 10.8s\tremaining: 4.64s\n",
      "8000:\tlearn: 4.4406314\ttest: 5.8244835\tbest: 5.7448113 (1470)\ttotal: 12.7s\tremaining: 3.17s\n",
      "9000:\tlearn: 4.3237093\ttest: 5.8376919\tbest: 5.7448113 (1470)\ttotal: 14.4s\tremaining: 1.6s\n",
      "9999:\tlearn: 4.2173008\ttest: 5.8480079\tbest: 5.7448113 (1470)\ttotal: 16s\tremaining: 0us\n",
      "\n",
      "bestTest = 5.744811254\n",
      "bestIteration = 1470\n",
      "\n",
      "Shrink model to first 1471 iterations.\n",
      "0:\tlearn: 7.2898643\ttest: 7.2318350\tbest: 7.2318350 (0)\ttotal: 1.72ms\tremaining: 17.2s\n",
      "1000:\tlearn: 5.6318009\ttest: 5.9516578\tbest: 5.9379823 (411)\ttotal: 1.52s\tremaining: 13.7s\n",
      "2000:\tlearn: 5.3740562\ttest: 5.9980857\tbest: 5.9379823 (411)\ttotal: 3.06s\tremaining: 12.2s\n",
      "3000:\tlearn: 5.1573437\ttest: 6.0327590\tbest: 5.9379823 (411)\ttotal: 4.62s\tremaining: 10.8s\n",
      "4000:\tlearn: 4.9684969\ttest: 6.0628919\tbest: 5.9379823 (411)\ttotal: 6.15s\tremaining: 9.22s\n",
      "5000:\tlearn: 4.7925358\ttest: 6.0876190\tbest: 5.9379823 (411)\ttotal: 7.88s\tremaining: 7.87s\n",
      "6000:\tlearn: 4.6320134\ttest: 6.1074896\tbest: 5.9379823 (411)\ttotal: 9.56s\tremaining: 6.37s\n",
      "7000:\tlearn: 4.4877422\ttest: 6.1301066\tbest: 5.9379823 (411)\ttotal: 11.4s\tremaining: 4.87s\n",
      "8000:\tlearn: 4.3611123\ttest: 6.1505927\tbest: 5.9379823 (411)\ttotal: 13s\tremaining: 3.24s\n",
      "9000:\tlearn: 4.2440535\ttest: 6.1669308\tbest: 5.9379823 (411)\ttotal: 14.5s\tremaining: 1.61s\n",
      "9999:\tlearn: 4.1384856\ttest: 6.1847015\tbest: 5.9379823 (411)\ttotal: 16s\tremaining: 0us\n",
      "\n",
      "bestTest = 5.937982334\n",
      "bestIteration = 411\n",
      "\n",
      "Shrink model to first 412 iterations.\n"
     ]
    }
   ],
   "source": [
    "height_models = []\n",
    "\n",
    "kfold = KFold(n_splits = 5, shuffle = True, random_state = 888) \n",
    "for idx, (train_idx, val_idx) in enumerate(kfold.split(x_train, y_train)): \n",
    "    train_x, val_x = x_train.iloc[train_idx,:], x_train.iloc[val_idx,:]\n",
    "    train_y, val_y = y_train.iloc[train_idx], y_train.iloc[val_idx] \n",
    "    model = CatBoostRegressor(iterations = 10000,\n",
    "                              learning_rate = 0.01, \n",
    "                              loss_function = 'RMSE', \n",
    "                              eval_metric = 'RMSE',\n",
    "                              verbose = 1000, \n",
    "                              use_best_model = True,\n",
    "                              random_seed = 999) \n",
    "    \n",
    "    \n",
    "    model.fit(train_x, train_y, eval_set = (val_x, val_y), cat_features = cat_cols) \n",
    "    \n",
    "    height_models.append(model)\n",
    "    \n"
   ]
  },
  {
   "cell_type": "code",
   "execution_count": 16,
   "metadata": {},
   "outputs": [],
   "source": [
    "for idx,model in enumerate(height_models):  \n",
    "    model.save_model('face_height_model' + str(idx+1))"
   ]
  },
  {
   "cell_type": "markdown",
   "metadata": {},
   "source": [
    "calculating mae loss for the predictions"
   ]
  },
  {
   "cell_type": "code",
   "execution_count": 39,
   "metadata": {},
   "outputs": [
    {
     "name": "stdout",
     "output_type": "stream",
     "text": [
      "model 1의 평균 절대 오차 = 4.50 mm\n",
      "model 2의 평균 절대 오차 = 4.69 mm\n",
      "model 3의 평균 절대 오차 = 4.69 mm\n",
      "model 4의 평균 절대 오차 = 4.44 mm\n",
      "model 5의 평균 절대 오차 = 4.71 mm\n",
      "전체 평균 절대 오차 = 4.61 mm\n"
     ]
    }
   ],
   "source": [
    "total_mae = 0 \n",
    "kfold = KFold(n_splits = 5, shuffle = True, random_state = 888) \n",
    "for idx, (train_idx, val_idx) in enumerate(kfold.split(x_train, y_train)): \n",
    "    model = height_models[idx] \n",
    "    y_true = y_train.iloc[val_idx] \n",
    "    val_x = x_train.iloc[val_idx,:]\n",
    "    y_pred = model.predict(val_x)   \n",
    "    print(\"model {}의 평균 절대 오차 = {:.2f} mm\".format(idx+1, mean_absolute_error(y_true, y_pred))) \n",
    "    total_mae += mean_absolute_error(y_true, y_pred) \n",
    "\n",
    "print(\"전체 평균 절대 오차 = {:.2f} mm\".format(total_mae / 5.0))\n",
    "    \n",
    "    "
   ]
  },
  {
   "cell_type": "markdown",
   "metadata": {},
   "source": [
    "### Fit model for face width"
   ]
  },
  {
   "cell_type": "code",
   "execution_count": 40,
   "metadata": {},
   "outputs": [],
   "source": [
    "x_train = train.drop(columns=['face_width', 'lower_face_height'])\n",
    "y_train = train['face_width']   "
   ]
  },
  {
   "cell_type": "code",
   "execution_count": 41,
   "metadata": {},
   "outputs": [],
   "source": [
    "cat_cols = ['gender']"
   ]
  },
  {
   "cell_type": "code",
   "execution_count": 43,
   "metadata": {},
   "outputs": [
    {
     "name": "stdout",
     "output_type": "stream",
     "text": [
      "0:\tlearn: 7.1851516\ttest: 7.1867080\tbest: 7.1867080 (0)\ttotal: 4.65ms\tremaining: 46.5s\n",
      "1000:\tlearn: 5.7032682\ttest: 5.8482787\tbest: 5.8356518 (573)\ttotal: 1.86s\tremaining: 16.7s\n",
      "2000:\tlearn: 5.4731773\ttest: 5.8889609\tbest: 5.8356518 (573)\ttotal: 3.45s\tremaining: 13.8s\n",
      "3000:\tlearn: 5.2673452\ttest: 5.9225940\tbest: 5.8356518 (573)\ttotal: 5.05s\tremaining: 11.8s\n",
      "4000:\tlearn: 5.0890601\ttest: 5.9522182\tbest: 5.8356518 (573)\ttotal: 6.99s\tremaining: 10.5s\n",
      "5000:\tlearn: 4.9259943\ttest: 5.9781162\tbest: 5.8356518 (573)\ttotal: 8.92s\tremaining: 8.92s\n",
      "6000:\tlearn: 4.7788398\ttest: 6.0083523\tbest: 5.8356518 (573)\ttotal: 10.9s\tremaining: 7.24s\n",
      "7000:\tlearn: 4.6372077\ttest: 6.0377714\tbest: 5.8356518 (573)\ttotal: 13s\tremaining: 5.57s\n",
      "8000:\tlearn: 4.5090648\ttest: 6.0639006\tbest: 5.8356518 (573)\ttotal: 14.8s\tremaining: 3.7s\n",
      "9000:\tlearn: 4.3883036\ttest: 6.0846673\tbest: 5.8356518 (573)\ttotal: 16.6s\tremaining: 1.84s\n",
      "9999:\tlearn: 4.2794779\ttest: 6.1050036\tbest: 5.8356518 (573)\ttotal: 18.4s\tremaining: 0us\n",
      "\n",
      "bestTest = 5.835651827\n",
      "bestIteration = 573\n",
      "\n",
      "Shrink model to first 574 iterations.\n",
      "0:\tlearn: 7.1977477\ttest: 7.1369038\tbest: 7.1369038 (0)\ttotal: 1.58ms\tremaining: 15.8s\n",
      "1000:\tlearn: 5.7024424\ttest: 5.8631383\tbest: 5.8601761 (727)\ttotal: 1.71s\tremaining: 15.4s\n",
      "2000:\tlearn: 5.4995412\ttest: 5.8992352\tbest: 5.8601761 (727)\ttotal: 3.63s\tremaining: 14.5s\n",
      "3000:\tlearn: 5.2932099\ttest: 5.9455633\tbest: 5.8601761 (727)\ttotal: 5.64s\tremaining: 13.2s\n",
      "4000:\tlearn: 5.0978757\ttest: 5.9909835\tbest: 5.8601761 (727)\ttotal: 7.6s\tremaining: 11.4s\n",
      "5000:\tlearn: 4.9246979\ttest: 6.0332794\tbest: 5.8601761 (727)\ttotal: 9.49s\tremaining: 9.49s\n",
      "6000:\tlearn: 4.7699292\ttest: 6.0693380\tbest: 5.8601761 (727)\ttotal: 11.4s\tremaining: 7.6s\n",
      "7000:\tlearn: 4.6289945\ttest: 6.1046485\tbest: 5.8601761 (727)\ttotal: 13.1s\tremaining: 5.63s\n",
      "8000:\tlearn: 4.4981821\ttest: 6.1379232\tbest: 5.8601761 (727)\ttotal: 15s\tremaining: 3.75s\n",
      "9000:\tlearn: 4.3767840\ttest: 6.1670841\tbest: 5.8601761 (727)\ttotal: 16.7s\tremaining: 1.86s\n",
      "9999:\tlearn: 4.2639556\ttest: 6.1920625\tbest: 5.8601761 (727)\ttotal: 18.5s\tremaining: 0us\n",
      "\n",
      "bestTest = 5.860176105\n",
      "bestIteration = 727\n",
      "\n",
      "Shrink model to first 728 iterations.\n",
      "0:\tlearn: 7.2159292\ttest: 7.0624693\tbest: 7.0624693 (0)\ttotal: 1.42ms\tremaining: 14.2s\n",
      "1000:\tlearn: 5.6845991\ttest: 5.8930093\tbest: 5.8719360 (348)\ttotal: 1.79s\tremaining: 16.1s\n",
      "2000:\tlearn: 5.4489243\ttest: 5.9350188\tbest: 5.8719360 (348)\ttotal: 3.51s\tremaining: 14s\n",
      "3000:\tlearn: 5.2328762\ttest: 5.9704557\tbest: 5.8719360 (348)\ttotal: 5.38s\tremaining: 12.5s\n",
      "4000:\tlearn: 5.0483939\ttest: 6.0041954\tbest: 5.8719360 (348)\ttotal: 7.2s\tremaining: 10.8s\n",
      "5000:\tlearn: 4.8878044\ttest: 6.0323207\tbest: 5.8719360 (348)\ttotal: 9.13s\tremaining: 9.13s\n",
      "6000:\tlearn: 4.7406187\ttest: 6.0634390\tbest: 5.8719360 (348)\ttotal: 11.1s\tremaining: 7.39s\n",
      "7000:\tlearn: 4.6027490\ttest: 6.0951620\tbest: 5.8719360 (348)\ttotal: 12.9s\tremaining: 5.51s\n",
      "8000:\tlearn: 4.4726582\ttest: 6.1262309\tbest: 5.8719360 (348)\ttotal: 14.5s\tremaining: 3.62s\n",
      "9000:\tlearn: 4.3506584\ttest: 6.1548980\tbest: 5.8719360 (348)\ttotal: 16.1s\tremaining: 1.79s\n",
      "9999:\tlearn: 4.2335224\ttest: 6.1868476\tbest: 5.8719360 (348)\ttotal: 17.8s\tremaining: 0us\n",
      "\n",
      "bestTest = 5.871936044\n",
      "bestIteration = 348\n",
      "\n",
      "Shrink model to first 349 iterations.\n",
      "0:\tlearn: 7.1660547\ttest: 7.2637435\tbest: 7.2637435 (0)\ttotal: 2.5ms\tremaining: 25s\n",
      "1000:\tlearn: 5.6701059\ttest: 6.0036778\tbest: 5.9975378 (700)\ttotal: 1.73s\tremaining: 15.5s\n",
      "2000:\tlearn: 5.4445163\ttest: 6.0314464\tbest: 5.9975378 (700)\ttotal: 3.42s\tremaining: 13.7s\n",
      "3000:\tlearn: 5.2299096\ttest: 6.0514894\tbest: 5.9975378 (700)\ttotal: 5.28s\tremaining: 12.3s\n",
      "4000:\tlearn: 5.0427837\ttest: 6.0712094\tbest: 5.9975378 (700)\ttotal: 7.22s\tremaining: 10.8s\n",
      "5000:\tlearn: 4.8713626\ttest: 6.0891689\tbest: 5.9975378 (700)\ttotal: 9.27s\tremaining: 9.27s\n",
      "6000:\tlearn: 4.7174783\ttest: 6.1067769\tbest: 5.9975378 (700)\ttotal: 11.1s\tremaining: 7.39s\n",
      "7000:\tlearn: 4.5774334\ttest: 6.1251870\tbest: 5.9975378 (700)\ttotal: 12.7s\tremaining: 5.46s\n",
      "8000:\tlearn: 4.4504485\ttest: 6.1416938\tbest: 5.9975378 (700)\ttotal: 14.8s\tremaining: 3.71s\n",
      "9000:\tlearn: 4.3328895\ttest: 6.1579851\tbest: 5.9975378 (700)\ttotal: 16.8s\tremaining: 1.86s\n",
      "9999:\tlearn: 4.2216195\ttest: 6.1753839\tbest: 5.9975378 (700)\ttotal: 18.7s\tremaining: 0us\n",
      "\n",
      "bestTest = 5.997537773\n",
      "bestIteration = 700\n",
      "\n",
      "Shrink model to first 701 iterations.\n",
      "0:\tlearn: 7.1618007\ttest: 7.2793725\tbest: 7.2793725 (0)\ttotal: 1.41ms\tremaining: 14.1s\n",
      "1000:\tlearn: 5.6552170\ttest: 6.0343885\tbest: 6.0224222 (500)\ttotal: 1.87s\tremaining: 16.8s\n",
      "2000:\tlearn: 5.4129031\ttest: 6.0720618\tbest: 6.0224222 (500)\ttotal: 3.83s\tremaining: 15.3s\n",
      "3000:\tlearn: 5.2035502\ttest: 6.1120230\tbest: 6.0224222 (500)\ttotal: 5.64s\tremaining: 13.1s\n",
      "4000:\tlearn: 5.0205734\ttest: 6.1460938\tbest: 6.0224222 (500)\ttotal: 7.43s\tremaining: 11.1s\n",
      "5000:\tlearn: 4.8544098\ttest: 6.1793080\tbest: 6.0224222 (500)\ttotal: 9.48s\tremaining: 9.47s\n",
      "6000:\tlearn: 4.7058194\ttest: 6.2127208\tbest: 6.0224222 (500)\ttotal: 11.2s\tremaining: 7.49s\n",
      "7000:\tlearn: 4.5713811\ttest: 6.2375954\tbest: 6.0224222 (500)\ttotal: 12.9s\tremaining: 5.52s\n",
      "8000:\tlearn: 4.4457328\ttest: 6.2643927\tbest: 6.0224222 (500)\ttotal: 14.5s\tremaining: 3.63s\n",
      "9000:\tlearn: 4.3289463\ttest: 6.2817524\tbest: 6.0224222 (500)\ttotal: 16.2s\tremaining: 1.79s\n",
      "9999:\tlearn: 4.2210457\ttest: 6.3006921\tbest: 6.0224222 (500)\ttotal: 17.8s\tremaining: 0us\n",
      "\n",
      "bestTest = 6.022422161\n",
      "bestIteration = 500\n",
      "\n",
      "Shrink model to first 501 iterations.\n"
     ]
    }
   ],
   "source": [
    "width_models = []\n",
    "\n",
    "kfold = KFold(n_splits = 5, shuffle = True, random_state = 888) \n",
    "for idx, (train_idx, val_idx) in enumerate(kfold.split(x_train, y_train)): \n",
    "    train_x, val_x = x_train.iloc[train_idx,:], x_train.iloc[val_idx,:]\n",
    "    train_y, val_y = y_train.iloc[train_idx], y_train.iloc[val_idx] \n",
    "    model = CatBoostRegressor(iterations = 10000,\n",
    "                              learning_rate = 0.01, \n",
    "                              loss_function = 'RMSE', \n",
    "                              eval_metric = 'RMSE',\n",
    "                              verbose = 1000, \n",
    "                              use_best_model = True,\n",
    "                              random_seed = 999) \n",
    "    \n",
    "    \n",
    "    model.fit(train_x, train_y, eval_set = (val_x, val_y), cat_features = cat_cols) \n",
    "    \n",
    "    width_models.append(model)    \n",
    "    \n"
   ]
  },
  {
   "cell_type": "markdown",
   "metadata": {},
   "source": [
    "calculating mae loss for width predictions "
   ]
  },
  {
   "cell_type": "code",
   "execution_count": 46,
   "metadata": {},
   "outputs": [],
   "source": [
    "for idx,model in enumerate(width_models):  \n",
    "    model.save_model('face_width_model' + str(idx+1))"
   ]
  },
  {
   "cell_type": "code",
   "execution_count": 44,
   "metadata": {},
   "outputs": [
    {
     "name": "stdout",
     "output_type": "stream",
     "text": [
      "model 1의 평균 절대 오차 = 4.52 mm\n",
      "model 2의 평균 절대 오차 = 4.59 mm\n",
      "model 3의 평균 절대 오차 = 4.59 mm\n",
      "model 4의 평균 절대 오차 = 4.64 mm\n",
      "model 5의 평균 절대 오차 = 4.72 mm\n",
      "전체 평균 절대 오차 = 4.61 mm\n"
     ]
    }
   ],
   "source": [
    "total_mae = 0         \n",
    "kfold = KFold(n_splits = 5, shuffle = True, random_state = 888) \n",
    "for idx, (train_idx, val_idx) in enumerate(kfold.split(x_train, y_train)): \n",
    "    model = width_models[idx] \n",
    "    y_true = y_train.iloc[val_idx] \n",
    "    val_x = x_train.iloc[val_idx,:]\n",
    "    y_pred = model.predict(val_x)   \n",
    "    print(\"model {}의 평균 절대 오차 = {:.2f} mm\".format(idx+1, mean_absolute_error(y_true, y_pred))) \n",
    "    total_mae += mean_absolute_error(y_true, y_pred) \n",
    "\n",
    "print(\"전체 평균 절대 오차 = {:.2f} mm\".format(total_mae / 5.0))\n",
    "    "
   ]
  },
  {
   "cell_type": "code",
   "execution_count": null,
   "metadata": {},
   "outputs": [],
   "source": []
  },
  {
   "cell_type": "code",
   "execution_count": null,
   "metadata": {},
   "outputs": [],
   "source": []
  },
  {
   "cell_type": "code",
   "execution_count": null,
   "metadata": {},
   "outputs": [],
   "source": []
  },
  {
   "cell_type": "code",
   "execution_count": null,
   "metadata": {},
   "outputs": [],
   "source": []
  }
 ],
 "metadata": {
  "kernelspec": {
   "display_name": "Python 3",
   "language": "python",
   "name": "python3"
  },
  "language_info": {
   "codemirror_mode": {
    "name": "ipython",
    "version": 3
   },
   "file_extension": ".py",
   "mimetype": "text/x-python",
   "name": "python",
   "nbconvert_exporter": "python",
   "pygments_lexer": "ipython3",
   "version": "3.8.5"
  }
 },
 "nbformat": 4,
 "nbformat_minor": 4
}
