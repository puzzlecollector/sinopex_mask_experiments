{
 "cells": [
  {
   "cell_type": "code",
   "execution_count": 1,
   "metadata": {},
   "outputs": [],
   "source": [
    "import numpy as np \n",
    "import pandas as pd \n",
    "from catboost import CatBoostRegressor\n",
    "from sklearn.multioutput import MultiOutputRegressor\n",
    "from sklearn.model_selection import KFold\n",
    "from sklearn.metrics import mean_absolute_error"
   ]
  },
  {
   "cell_type": "code",
   "execution_count": 3,
   "metadata": {},
   "outputs": [],
   "source": [
    "train = pd.read_csv('3_features_predict.csv') "
   ]
  },
  {
   "cell_type": "code",
   "execution_count": 5,
   "metadata": {},
   "outputs": [
    {
     "data": {
      "text/html": [
       "<div>\n",
       "<style scoped>\n",
       "    .dataframe tbody tr th:only-of-type {\n",
       "        vertical-align: middle;\n",
       "    }\n",
       "\n",
       "    .dataframe tbody tr th {\n",
       "        vertical-align: top;\n",
       "    }\n",
       "\n",
       "    .dataframe thead th {\n",
       "        text-align: right;\n",
       "    }\n",
       "</style>\n",
       "<table border=\"1\" class=\"dataframe\">\n",
       "  <thead>\n",
       "    <tr style=\"text-align: right;\">\n",
       "      <th></th>\n",
       "      <th>성별</th>\n",
       "      <th>나이</th>\n",
       "      <th>키</th>\n",
       "      <th>머리너비</th>\n",
       "      <th>얼굴수직길이</th>\n",
       "    </tr>\n",
       "  </thead>\n",
       "  <tbody>\n",
       "    <tr>\n",
       "      <th>0</th>\n",
       "      <td>남</td>\n",
       "      <td>25</td>\n",
       "      <td>1736.0</td>\n",
       "      <td>159.0</td>\n",
       "      <td>118.0</td>\n",
       "    </tr>\n",
       "    <tr>\n",
       "      <th>1</th>\n",
       "      <td>남</td>\n",
       "      <td>28</td>\n",
       "      <td>1833.0</td>\n",
       "      <td>161.0</td>\n",
       "      <td>128.0</td>\n",
       "    </tr>\n",
       "    <tr>\n",
       "      <th>2</th>\n",
       "      <td>남</td>\n",
       "      <td>19</td>\n",
       "      <td>1744.0</td>\n",
       "      <td>162.0</td>\n",
       "      <td>127.0</td>\n",
       "    </tr>\n",
       "    <tr>\n",
       "      <th>3</th>\n",
       "      <td>남</td>\n",
       "      <td>20</td>\n",
       "      <td>1751.0</td>\n",
       "      <td>154.0</td>\n",
       "      <td>124.0</td>\n",
       "    </tr>\n",
       "    <tr>\n",
       "      <th>4</th>\n",
       "      <td>남</td>\n",
       "      <td>22</td>\n",
       "      <td>1851.0</td>\n",
       "      <td>158.0</td>\n",
       "      <td>117.0</td>\n",
       "    </tr>\n",
       "  </tbody>\n",
       "</table>\n",
       "</div>"
      ],
      "text/plain": [
       "  성별  나이       키   머리너비  얼굴수직길이\n",
       "0  남  25  1736.0  159.0   118.0\n",
       "1  남  28  1833.0  161.0   128.0\n",
       "2  남  19  1744.0  162.0   127.0\n",
       "3  남  20  1751.0  154.0   124.0\n",
       "4  남  22  1851.0  158.0   117.0"
      ]
     },
     "execution_count": 5,
     "metadata": {},
     "output_type": "execute_result"
    }
   ],
   "source": [
    "train.head()"
   ]
  },
  {
   "cell_type": "markdown",
   "metadata": {},
   "source": [
    "### Fit model for lower face height"
   ]
  },
  {
   "cell_type": "code",
   "execution_count": 22,
   "metadata": {},
   "outputs": [],
   "source": [
    "x_train = train.drop(columns=['머리너비', '얼굴수직길이'])\n",
    "y_train = train['얼굴수직길이']"
   ]
  },
  {
   "cell_type": "code",
   "execution_count": 23,
   "metadata": {},
   "outputs": [],
   "source": [
    "cat_cols = ['성별']"
   ]
  },
  {
   "cell_type": "code",
   "execution_count": 24,
   "metadata": {},
   "outputs": [
    {
     "name": "stdout",
     "output_type": "stream",
     "text": [
      "0:\tlearn: 9.0927769\ttest: 8.8660154\tbest: 8.8660154 (0)\ttotal: 5.56ms\tremaining: 55.6s\n",
      "1000:\tlearn: 6.3664826\ttest: 6.4027045\tbest: 6.4026001 (994)\ttotal: 2.38s\tremaining: 21.4s\n",
      "2000:\tlearn: 6.2782326\ttest: 6.4179707\tbest: 6.4021620 (1038)\ttotal: 4.76s\tremaining: 19s\n",
      "3000:\tlearn: 6.2065077\ttest: 6.4342644\tbest: 6.4021620 (1038)\ttotal: 7.39s\tremaining: 17.2s\n",
      "4000:\tlearn: 6.1472057\ttest: 6.4504070\tbest: 6.4021620 (1038)\ttotal: 9.81s\tremaining: 14.7s\n",
      "5000:\tlearn: 6.0967070\ttest: 6.4650737\tbest: 6.4021620 (1038)\ttotal: 12.1s\tremaining: 12s\n",
      "6000:\tlearn: 6.0524327\ttest: 6.4819336\tbest: 6.4021620 (1038)\ttotal: 14.7s\tremaining: 9.79s\n",
      "7000:\tlearn: 6.0117416\ttest: 6.4980874\tbest: 6.4021620 (1038)\ttotal: 17.3s\tremaining: 7.39s\n",
      "8000:\tlearn: 5.9738163\ttest: 6.5128367\tbest: 6.4021620 (1038)\ttotal: 20.1s\tremaining: 5.02s\n",
      "9000:\tlearn: 5.9394492\ttest: 6.5260605\tbest: 6.4021620 (1038)\ttotal: 22.5s\tremaining: 2.5s\n",
      "9999:\tlearn: 5.9072518\ttest: 6.5392049\tbest: 6.4021620 (1038)\ttotal: 24.8s\tremaining: 0us\n",
      "\n",
      "bestTest = 6.40216195\n",
      "bestIteration = 1038\n",
      "\n",
      "Shrink model to first 1039 iterations.\n",
      "0:\tlearn: 8.9937733\ttest: 9.2612022\tbest: 9.2612022 (0)\ttotal: 2.98ms\tremaining: 29.8s\n",
      "1000:\tlearn: 6.3032436\ttest: 6.6500709\tbest: 6.6483961 (742)\ttotal: 2.2s\tremaining: 19.8s\n",
      "2000:\tlearn: 6.2144054\ttest: 6.6591902\tbest: 6.6483961 (742)\ttotal: 5.11s\tremaining: 20.4s\n",
      "3000:\tlearn: 6.1447287\ttest: 6.6780740\tbest: 6.6483961 (742)\ttotal: 7.55s\tremaining: 17.6s\n",
      "4000:\tlearn: 6.0877157\ttest: 6.7004775\tbest: 6.6483961 (742)\ttotal: 9.95s\tremaining: 14.9s\n",
      "5000:\tlearn: 6.0371775\ttest: 6.7155372\tbest: 6.6483961 (742)\ttotal: 12.5s\tremaining: 12.5s\n",
      "6000:\tlearn: 5.9924176\ttest: 6.7307778\tbest: 6.6483961 (742)\ttotal: 14.9s\tremaining: 9.96s\n",
      "7000:\tlearn: 5.9524520\ttest: 6.7446476\tbest: 6.6483961 (742)\ttotal: 17.8s\tremaining: 7.64s\n",
      "8000:\tlearn: 5.9153394\ttest: 6.7590868\tbest: 6.6483961 (742)\ttotal: 20.6s\tremaining: 5.16s\n",
      "9000:\tlearn: 5.8805926\ttest: 6.7734953\tbest: 6.6483961 (742)\ttotal: 23.9s\tremaining: 2.65s\n",
      "9999:\tlearn: 5.8483272\ttest: 6.7866544\tbest: 6.6483961 (742)\ttotal: 27s\tremaining: 0us\n",
      "\n",
      "bestTest = 6.648396064\n",
      "bestIteration = 742\n",
      "\n",
      "Shrink model to first 743 iterations.\n",
      "0:\tlearn: 9.0766442\ttest: 8.9395501\tbest: 8.9395501 (0)\ttotal: 3.02ms\tremaining: 30.2s\n",
      "1000:\tlearn: 6.4065407\ttest: 6.2370137\tbest: 6.2368284 (983)\ttotal: 2.69s\tremaining: 24.2s\n",
      "2000:\tlearn: 6.3215011\ttest: 6.2376860\tbest: 6.2360657 (1613)\ttotal: 5.4s\tremaining: 21.6s\n",
      "3000:\tlearn: 6.2528371\ttest: 6.2423380\tbest: 6.2360657 (1613)\ttotal: 8.15s\tremaining: 19s\n",
      "4000:\tlearn: 6.1943896\ttest: 6.2539469\tbest: 6.2360657 (1613)\ttotal: 10.9s\tremaining: 16.3s\n",
      "5000:\tlearn: 6.1432301\ttest: 6.2660889\tbest: 6.2360657 (1613)\ttotal: 13.6s\tremaining: 13.6s\n",
      "6000:\tlearn: 6.0995780\ttest: 6.2763014\tbest: 6.2360657 (1613)\ttotal: 16.4s\tremaining: 10.9s\n",
      "7000:\tlearn: 6.0596556\ttest: 6.2869787\tbest: 6.2360657 (1613)\ttotal: 20.7s\tremaining: 8.85s\n",
      "8000:\tlearn: 6.0219348\ttest: 6.2964218\tbest: 6.2360657 (1613)\ttotal: 23.8s\tremaining: 5.95s\n",
      "9000:\tlearn: 5.9876553\ttest: 6.3076893\tbest: 6.2360657 (1613)\ttotal: 26.7s\tremaining: 2.96s\n",
      "9999:\tlearn: 5.9542688\ttest: 6.3178500\tbest: 6.2360657 (1613)\ttotal: 30s\tremaining: 0us\n",
      "\n",
      "bestTest = 6.236065685\n",
      "bestIteration = 1613\n",
      "\n",
      "Shrink model to first 1614 iterations.\n",
      "0:\tlearn: 9.0674369\ttest: 8.9706675\tbest: 8.9706675 (0)\ttotal: 3.68ms\tremaining: 36.8s\n",
      "1000:\tlearn: 6.3575284\ttest: 6.4350601\tbest: 6.4348633 (971)\ttotal: 3.34s\tremaining: 30.1s\n",
      "2000:\tlearn: 6.2765786\ttest: 6.4503650\tbest: 6.4348633 (971)\ttotal: 6.09s\tremaining: 24.3s\n",
      "3000:\tlearn: 6.2060221\ttest: 6.4676158\tbest: 6.4348633 (971)\ttotal: 8.96s\tremaining: 20.9s\n",
      "4000:\tlearn: 6.1445128\ttest: 6.4842860\tbest: 6.4348633 (971)\ttotal: 11.5s\tremaining: 17.3s\n",
      "5000:\tlearn: 6.0916255\ttest: 6.5007784\tbest: 6.4348633 (971)\ttotal: 14.3s\tremaining: 14.2s\n",
      "6000:\tlearn: 6.0435486\ttest: 6.5180663\tbest: 6.4348633 (971)\ttotal: 16.6s\tremaining: 11.1s\n",
      "7000:\tlearn: 5.9994331\ttest: 6.5337065\tbest: 6.4348633 (971)\ttotal: 19.5s\tremaining: 8.37s\n",
      "8000:\tlearn: 5.9584751\ttest: 6.5507921\tbest: 6.4348633 (971)\ttotal: 22s\tremaining: 5.49s\n",
      "9000:\tlearn: 5.9206616\ttest: 6.5665100\tbest: 6.4348633 (971)\ttotal: 24.2s\tremaining: 2.69s\n",
      "9999:\tlearn: 5.8869618\ttest: 6.5813821\tbest: 6.4348633 (971)\ttotal: 26.7s\tremaining: 0us\n",
      "\n",
      "bestTest = 6.434863263\n",
      "bestIteration = 971\n",
      "\n",
      "Shrink model to first 972 iterations.\n",
      "0:\tlearn: 9.0106988\ttest: 9.2017218\tbest: 9.2017218 (0)\ttotal: 2.57ms\tremaining: 25.7s\n",
      "1000:\tlearn: 6.3703978\ttest: 6.3899265\tbest: 6.3899257 (999)\ttotal: 2.29s\tremaining: 20.6s\n",
      "2000:\tlearn: 6.2874653\ttest: 6.3991641\tbest: 6.3883588 (1125)\ttotal: 5.41s\tremaining: 21.6s\n",
      "3000:\tlearn: 6.2210887\ttest: 6.4137507\tbest: 6.3883588 (1125)\ttotal: 9.53s\tremaining: 22.2s\n",
      "4000:\tlearn: 6.1636509\ttest: 6.4293576\tbest: 6.3883588 (1125)\ttotal: 12.7s\tremaining: 19.1s\n",
      "5000:\tlearn: 6.1131231\ttest: 6.4427040\tbest: 6.3883588 (1125)\ttotal: 16.4s\tremaining: 16.4s\n",
      "6000:\tlearn: 6.0673897\ttest: 6.4548240\tbest: 6.3883588 (1125)\ttotal: 20.2s\tremaining: 13.4s\n",
      "7000:\tlearn: 6.0262887\ttest: 6.4669701\tbest: 6.3883588 (1125)\ttotal: 23.2s\tremaining: 9.96s\n",
      "8000:\tlearn: 5.9882230\ttest: 6.4783853\tbest: 6.3883588 (1125)\ttotal: 26.2s\tremaining: 6.55s\n",
      "9000:\tlearn: 5.9525097\ttest: 6.4920487\tbest: 6.3883588 (1125)\ttotal: 29.6s\tremaining: 3.29s\n",
      "9999:\tlearn: 5.9192048\ttest: 6.5031652\tbest: 6.3883588 (1125)\ttotal: 33.3s\tremaining: 0us\n",
      "\n",
      "bestTest = 6.388358831\n",
      "bestIteration = 1125\n",
      "\n",
      "Shrink model to first 1126 iterations.\n"
     ]
    }
   ],
   "source": [
    "height_models = []\n",
    "\n",
    "kfold = KFold(n_splits = 5, shuffle = True, random_state = 888) \n",
    "for idx, (train_idx, val_idx) in enumerate(kfold.split(x_train, y_train)): \n",
    "    train_x, val_x = x_train.iloc[train_idx,:], x_train.iloc[val_idx,:]\n",
    "    train_y, val_y = y_train.iloc[train_idx], y_train.iloc[val_idx] \n",
    "    model = CatBoostRegressor(iterations = 10000,\n",
    "                              learning_rate = 0.01, \n",
    "                              loss_function = 'RMSE', \n",
    "                              eval_metric = 'RMSE',\n",
    "                              verbose = 1000, \n",
    "                              use_best_model = True,\n",
    "                              random_seed = 999) \n",
    "    \n",
    "    \n",
    "    model.fit(train_x, train_y, eval_set = (val_x, val_y), cat_features = cat_cols) \n",
    "    \n",
    "    height_models.append(model)\n",
    "    \n"
   ]
  },
  {
   "cell_type": "code",
   "execution_count": 25,
   "metadata": {},
   "outputs": [],
   "source": [
    "for idx,model in enumerate(height_models):  \n",
    "    model.save_model('3_feature_face_height_model' + str(idx+1)) "
   ]
  },
  {
   "cell_type": "code",
   "execution_count": 26,
   "metadata": {},
   "outputs": [
    {
     "name": "stdout",
     "output_type": "stream",
     "text": [
      "model 1의 평균 절대 오차 = 5.08 mm\n",
      "model 1의 평균 percentage 오차 = 4.52%\n",
      "model 2의 평균 절대 오차 = 5.25 mm\n",
      "model 2의 평균 percentage 오차 = 4.64%\n",
      "model 3의 평균 절대 오차 = 4.99 mm\n",
      "model 3의 평균 percentage 오차 = 4.43%\n",
      "model 4의 평균 절대 오차 = 5.09 mm\n",
      "model 4의 평균 percentage 오차 = 4.50%\n",
      "model 5의 평균 절대 오차 = 5.01 mm\n",
      "model 5의 평균 percentage 오차 = 4.43%\n",
      "전체 평균 절대 오차 = 5.08 mm\n",
      "전체 평균 percentage 오차 = 4.50%\n"
     ]
    }
   ],
   "source": [
    "total_mae = 0 \n",
    "total_pe = 0 # percentage error \n",
    "kfold = KFold(n_splits = 5, shuffle = True, random_state = 888) \n",
    "for idx, (train_idx, val_idx) in enumerate(kfold.split(x_train, y_train)): \n",
    "    model = height_models[idx] \n",
    "    y_true = y_train.iloc[val_idx] \n",
    "    val_x = x_train.iloc[val_idx,:]\n",
    "    y_pred = model.predict(val_x)   \n",
    "    print(\"model {}의 평균 절대 오차 = {:.2f} mm\".format(idx+1, mean_absolute_error(y_true, y_pred)))\n",
    "    print(\"model {}의 평균 percentage 오차 = {:.2f}%\".format(idx+1, np.mean(np.abs((y_true - y_pred) / y_true)) * 100))\n",
    "    total_mae += mean_absolute_error(y_true, y_pred) \n",
    "    total_pe += np.mean(np.abs((y_true - y_pred) / y_true)) * 100  \n",
    "\n",
    "print(\"전체 평균 절대 오차 = {:.2f} mm\".format(total_mae / 5.0))\n",
    "print(\"전체 평균 percentage 오차 = {:.2f}%\".format(total_pe / 5.0))\n"
   ]
  },
  {
   "cell_type": "markdown",
   "metadata": {},
   "source": [
    "### Fit model for lower face height"
   ]
  },
  {
   "cell_type": "code",
   "execution_count": 13,
   "metadata": {},
   "outputs": [],
   "source": [
    "x_train = train.drop(columns=['머리너비', '얼굴수직길이'])\n",
    "y_train = train['머리너비']   "
   ]
  },
  {
   "cell_type": "code",
   "execution_count": 14,
   "metadata": {},
   "outputs": [],
   "source": [
    "cat_cols = ['성별']"
   ]
  },
  {
   "cell_type": "code",
   "execution_count": 15,
   "metadata": {},
   "outputs": [
    {
     "name": "stdout",
     "output_type": "stream",
     "text": [
      "0:\tlearn: 7.3114902\ttest: 7.3039474\tbest: 7.3039474 (0)\ttotal: 5.27ms\tremaining: 52.7s\n",
      "1000:\tlearn: 6.0256698\ttest: 6.1162738\tbest: 6.1162738 (1000)\ttotal: 2.28s\tremaining: 20.5s\n",
      "2000:\tlearn: 5.9484985\ttest: 6.1268168\tbest: 6.1162738 (1000)\ttotal: 4.6s\tremaining: 18.4s\n",
      "3000:\tlearn: 5.8867780\ttest: 6.1385320\tbest: 6.1162738 (1000)\ttotal: 7.28s\tremaining: 17s\n",
      "4000:\tlearn: 5.8329462\ttest: 6.1517231\tbest: 6.1162738 (1000)\ttotal: 9.99s\tremaining: 15s\n",
      "5000:\tlearn: 5.7865807\ttest: 6.1651892\tbest: 6.1162738 (1000)\ttotal: 13s\tremaining: 13s\n",
      "6000:\tlearn: 5.7448377\ttest: 6.1776570\tbest: 6.1162738 (1000)\ttotal: 15.9s\tremaining: 10.6s\n",
      "7000:\tlearn: 5.7056326\ttest: 6.1905104\tbest: 6.1162738 (1000)\ttotal: 18.9s\tremaining: 8.08s\n",
      "8000:\tlearn: 5.6711746\ttest: 6.2029346\tbest: 6.1162738 (1000)\ttotal: 21.6s\tremaining: 5.39s\n",
      "9000:\tlearn: 5.6388026\ttest: 6.2156278\tbest: 6.1162738 (1000)\ttotal: 24.2s\tremaining: 2.68s\n",
      "9999:\tlearn: 5.6087964\ttest: 6.2262734\tbest: 6.1162738 (1000)\ttotal: 26.6s\tremaining: 0us\n",
      "\n",
      "bestTest = 6.1162738\n",
      "bestIteration = 1000\n",
      "\n",
      "Shrink model to first 1001 iterations.\n",
      "0:\tlearn: 7.3229324\ttest: 7.2581581\tbest: 7.2581581 (0)\ttotal: 2.79ms\tremaining: 27.9s\n",
      "1000:\tlearn: 6.0374344\ttest: 6.0574959\tbest: 6.0574721 (998)\ttotal: 2.5s\tremaining: 22.5s\n",
      "2000:\tlearn: 5.9577151\ttest: 6.0735712\tbest: 6.0571067 (1089)\ttotal: 5s\tremaining: 20s\n",
      "3000:\tlearn: 5.8967126\ttest: 6.0942015\tbest: 6.0571067 (1089)\ttotal: 7.33s\tremaining: 17.1s\n",
      "4000:\tlearn: 5.8462986\ttest: 6.1142707\tbest: 6.0571067 (1089)\ttotal: 9.62s\tremaining: 14.4s\n",
      "5000:\tlearn: 5.8019784\ttest: 6.1327602\tbest: 6.0571067 (1089)\ttotal: 12s\tremaining: 11.9s\n",
      "6000:\tlearn: 5.7629319\ttest: 6.1497062\tbest: 6.0571067 (1089)\ttotal: 14.2s\tremaining: 9.46s\n",
      "7000:\tlearn: 5.7263366\ttest: 6.1659289\tbest: 6.0571067 (1089)\ttotal: 16.4s\tremaining: 7.03s\n",
      "8000:\tlearn: 5.6927228\ttest: 6.1825116\tbest: 6.0571067 (1089)\ttotal: 18.8s\tremaining: 4.68s\n",
      "9000:\tlearn: 5.6616537\ttest: 6.1969417\tbest: 6.0571067 (1089)\ttotal: 21.4s\tremaining: 2.38s\n",
      "9999:\tlearn: 5.6316308\ttest: 6.2123268\tbest: 6.0571067 (1089)\ttotal: 23.7s\tremaining: 0us\n",
      "\n",
      "bestTest = 6.057106701\n",
      "bestIteration = 1089\n",
      "\n",
      "Shrink model to first 1090 iterations.\n",
      "0:\tlearn: 7.3146834\ttest: 7.2919838\tbest: 7.2919838 (0)\ttotal: 5.93ms\tremaining: 59.3s\n",
      "1000:\tlearn: 6.0458307\ttest: 6.0288763\tbest: 6.0286438 (873)\ttotal: 3.03s\tremaining: 27.2s\n",
      "2000:\tlearn: 5.9671940\ttest: 6.0434290\tbest: 6.0286438 (873)\ttotal: 6.06s\tremaining: 24.2s\n",
      "3000:\tlearn: 5.9075488\ttest: 6.0555664\tbest: 6.0286438 (873)\ttotal: 8.99s\tremaining: 21s\n",
      "4000:\tlearn: 5.8564430\ttest: 6.0698687\tbest: 6.0286438 (873)\ttotal: 11.9s\tremaining: 17.9s\n",
      "5000:\tlearn: 5.8116386\ttest: 6.0840073\tbest: 6.0286438 (873)\ttotal: 14.7s\tremaining: 14.7s\n",
      "6000:\tlearn: 5.7704339\ttest: 6.0993214\tbest: 6.0286438 (873)\ttotal: 18.1s\tremaining: 12.1s\n",
      "7000:\tlearn: 5.7326601\ttest: 6.1120542\tbest: 6.0286438 (873)\ttotal: 21.1s\tremaining: 9.02s\n",
      "8000:\tlearn: 5.6965623\ttest: 6.1266236\tbest: 6.0286438 (873)\ttotal: 23.5s\tremaining: 5.88s\n",
      "9000:\tlearn: 5.6640646\ttest: 6.1399820\tbest: 6.0286438 (873)\ttotal: 26.3s\tremaining: 2.92s\n",
      "9999:\tlearn: 5.6333137\ttest: 6.1525059\tbest: 6.0286438 (873)\ttotal: 29.1s\tremaining: 0us\n",
      "\n",
      "bestTest = 6.02864383\n",
      "bestIteration = 873\n",
      "\n",
      "Shrink model to first 874 iterations.\n",
      "0:\tlearn: 7.3106546\ttest: 7.3074419\tbest: 7.3074419 (0)\ttotal: 2.94ms\tremaining: 29.4s\n",
      "1000:\tlearn: 6.0267164\ttest: 6.0965651\tbest: 6.0962841 (797)\ttotal: 2.81s\tremaining: 25.3s\n",
      "2000:\tlearn: 5.9489503\ttest: 6.1128401\tbest: 6.0962841 (797)\ttotal: 5.46s\tremaining: 21.8s\n",
      "3000:\tlearn: 5.8868462\ttest: 6.1292972\tbest: 6.0962841 (797)\ttotal: 8.42s\tremaining: 19.6s\n",
      "4000:\tlearn: 5.8342572\ttest: 6.1459080\tbest: 6.0962841 (797)\ttotal: 11.2s\tremaining: 16.8s\n",
      "5000:\tlearn: 5.7871949\ttest: 6.1626645\tbest: 6.0962841 (797)\ttotal: 14s\tremaining: 14s\n",
      "6000:\tlearn: 5.7455368\ttest: 6.1790048\tbest: 6.0962841 (797)\ttotal: 17s\tremaining: 11.3s\n",
      "7000:\tlearn: 5.7081832\ttest: 6.1943318\tbest: 6.0962841 (797)\ttotal: 19.6s\tremaining: 8.42s\n",
      "8000:\tlearn: 5.6736973\ttest: 6.2094764\tbest: 6.0962841 (797)\ttotal: 22.6s\tremaining: 5.66s\n",
      "9000:\tlearn: 5.6410222\ttest: 6.2244819\tbest: 6.0962841 (797)\ttotal: 25.2s\tremaining: 2.79s\n",
      "9999:\tlearn: 5.6111514\ttest: 6.2389424\tbest: 6.0962841 (797)\ttotal: 28.3s\tremaining: 0us\n",
      "\n",
      "bestTest = 6.096284084\n",
      "bestIteration = 797\n",
      "\n",
      "Shrink model to first 798 iterations.\n",
      "0:\tlearn: 7.2914469\ttest: 7.3913069\tbest: 7.3913069 (0)\ttotal: 3.44ms\tremaining: 34.4s\n",
      "1000:\tlearn: 6.0177896\ttest: 6.1289131\tbest: 6.1283910 (856)\ttotal: 3.04s\tremaining: 27.3s\n",
      "2000:\tlearn: 5.9458103\ttest: 6.1458955\tbest: 6.1283910 (856)\ttotal: 5.91s\tremaining: 23.6s\n",
      "3000:\tlearn: 5.8871531\ttest: 6.1638401\tbest: 6.1283910 (856)\ttotal: 8.89s\tremaining: 20.7s\n",
      "4000:\tlearn: 5.8365214\ttest: 6.1811735\tbest: 6.1283910 (856)\ttotal: 11.9s\tremaining: 17.9s\n",
      "5000:\tlearn: 5.7933210\ttest: 6.1970232\tbest: 6.1283910 (856)\ttotal: 14.4s\tremaining: 14.4s\n",
      "6000:\tlearn: 5.7540824\ttest: 6.2103559\tbest: 6.1283910 (856)\ttotal: 17.6s\tremaining: 11.8s\n",
      "7000:\tlearn: 5.7175249\ttest: 6.2238821\tbest: 6.1283910 (856)\ttotal: 20s\tremaining: 8.58s\n",
      "8000:\tlearn: 5.6850848\ttest: 6.2353341\tbest: 6.1283910 (856)\ttotal: 22.4s\tremaining: 5.59s\n",
      "9000:\tlearn: 5.6548016\ttest: 6.2485030\tbest: 6.1283910 (856)\ttotal: 24.7s\tremaining: 2.74s\n",
      "9999:\tlearn: 5.6258724\ttest: 6.2589416\tbest: 6.1283910 (856)\ttotal: 27s\tremaining: 0us\n",
      "\n",
      "bestTest = 6.128391\n",
      "bestIteration = 856\n",
      "\n",
      "Shrink model to first 857 iterations.\n"
     ]
    }
   ],
   "source": [
    "width_models = []\n",
    "\n",
    "kfold = KFold(n_splits = 5, shuffle = True, random_state = 888) \n",
    "for idx, (train_idx, val_idx) in enumerate(kfold.split(x_train, y_train)): \n",
    "    train_x, val_x = x_train.iloc[train_idx,:], x_train.iloc[val_idx,:]\n",
    "    train_y, val_y = y_train.iloc[train_idx], y_train.iloc[val_idx] \n",
    "    model = CatBoostRegressor(iterations = 10000,\n",
    "                              learning_rate = 0.01, \n",
    "                              loss_function = 'RMSE', \n",
    "                              eval_metric = 'RMSE',\n",
    "                              verbose = 1000, \n",
    "                              use_best_model = True,\n",
    "                              random_seed = 999) \n",
    "    \n",
    "    \n",
    "    model.fit(train_x, train_y, eval_set = (val_x, val_y), cat_features = cat_cols) \n",
    "    \n",
    "    width_models.append(model)    \n",
    "    \n"
   ]
  },
  {
   "cell_type": "code",
   "execution_count": 16,
   "metadata": {},
   "outputs": [],
   "source": [
    "for idx,model in enumerate(width_models):  \n",
    "    model.save_model('3_feature_face_width_model' + str(idx+1))  "
   ]
  },
  {
   "cell_type": "code",
   "execution_count": 19,
   "metadata": {},
   "outputs": [
    {
     "name": "stdout",
     "output_type": "stream",
     "text": [
      "model 1의 평균 절대 오차 = 4.75 mm\n",
      "model 1의 평균 percentage 오차 = 3.04%\n",
      "model 2의 평균 절대 오차 = 4.76 mm\n",
      "model 2의 평균 percentage 오차 = 3.04%\n",
      "model 3의 평균 절대 오차 = 4.74 mm\n",
      "model 3의 평균 percentage 오차 = 3.04%\n",
      "model 4의 평균 절대 오차 = 4.75 mm\n",
      "model 4의 평균 percentage 오차 = 3.04%\n",
      "model 5의 평균 절대 오차 = 4.83 mm\n",
      "model 5의 평균 percentage 오차 = 3.09%\n",
      "전체 평균 절대 오차 = 4.76 mm\n",
      "전체 평균 percentage 오차 = 3.05%\n"
     ]
    }
   ],
   "source": [
    "total_mae = 0         \n",
    "total_pe = 0 # percentage error \n",
    "kfold = KFold(n_splits = 5, shuffle = True, random_state = 888) \n",
    "for idx, (train_idx, val_idx) in enumerate(kfold.split(x_train, y_train)): \n",
    "    model = width_models[idx] \n",
    "    y_true = y_train.iloc[val_idx] \n",
    "    val_x = x_train.iloc[val_idx,:]\n",
    "    y_pred = model.predict(val_x)   \n",
    "    print(\"model {}의 평균 절대 오차 = {:.2f} mm\".format(idx+1, mean_absolute_error(y_true, y_pred)))  \n",
    "    print(\"model {}의 평균 percentage 오차 = {:.2f}%\".format(idx+1, np.mean(np.abs((y_true - y_pred) / y_true)) * 100))\n",
    "    total_mae += mean_absolute_error(y_true, y_pred) \n",
    "    total_pe += np.mean(np.abs((y_true - y_pred) / y_true)) * 100 \n",
    "\n",
    "print(\"전체 평균 절대 오차 = {:.2f} mm\".format(total_mae / 5.0))\n",
    "print(\"전체 평균 percentage 오차 = {:.2f}%\".format(total_pe / 5.0))\n",
    "    "
   ]
  },
  {
   "cell_type": "code",
   "execution_count": null,
   "metadata": {},
   "outputs": [],
   "source": []
  }
 ],
 "metadata": {
  "kernelspec": {
   "display_name": "Python 3",
   "language": "python",
   "name": "python3"
  },
  "language_info": {
   "codemirror_mode": {
    "name": "ipython",
    "version": 3
   },
   "file_extension": ".py",
   "mimetype": "text/x-python",
   "name": "python",
   "nbconvert_exporter": "python",
   "pygments_lexer": "ipython3",
   "version": "3.8.5"
  }
 },
 "nbformat": 4,
 "nbformat_minor": 4
}
